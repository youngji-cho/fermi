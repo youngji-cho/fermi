{
 "cells": [
  {
   "cell_type": "code",
   "execution_count": 101,
   "metadata": {},
   "outputs": [
    {
     "name": "stderr",
     "output_type": "stream",
     "text": [
      "/Users/youngji/.local/lib/python3.6/site-packages/pandas/core/indexing.py:194: SettingWithCopyWarning: \n",
      "A value is trying to be set on a copy of a slice from a DataFrame\n",
      "\n",
      "See the caveats in the documentation: http://pandas.pydata.org/pandas-docs/stable/indexing.html#indexing-view-versus-copy\n",
      "  self._setitem_with_indexer(indexer, value)\n"
     ]
    }
   ],
   "source": [
    "# -*- coding: utf-8 -*-\n",
    "import sys\n",
    "import os\n",
    "import json\n",
    "from datetime import datetime\n",
    "import numpy as np\n",
    "import pandas as pd\n",
    "import pymysql\n",
    "import statsmodels.api as sm\n",
    "import statsmodels.formula.api as smf\n",
    "import predictions as pr\n",
    "import finance as fr\n",
    "import cost\n",
    "\n",
    "params={'startdate':'2018-10-10','year':25,'size':99.5,'weight':1.5,'averagetime':3.4,\n",
    "        \"scene\":\"lm_model\",\"type\":\"month\",\"plant\":\"solar\",\n",
    "        \"construction\":150000000,\"investment\":180000000,\"othercost\":25000000,\n",
    "        \"principal\":120000000,\"equity\":60000000,\"interest\":0.05, \"unredeemed\":12321321123,\"duration\":12,\n",
    "        \"repayment_method\":\"cpm\",\"repayment_term\":\"m\",\"interest_repayment_term\":\"q\",\n",
    "        \"finance_startdate\":\"2018-06-13\",\"price_index\":0.01,\"solar_index\":-0.08}\n",
    "\n",
    "#물가 예상 \n",
    "price_index=pr.index_predict(params[\"startdate\"],params[\"year\"],params[\"price_index\"]);price_index.name=\"price_index\";\n",
    "solar_index=pr.index_predict(params[\"startdate\"],params[\"year\"],params[\"solar_index\"]);solar_index.name=\"solar_index\";\n",
    "\n",
    "#수입예상 및 전체적인 지표구성\n",
    "revenue=pr.predict(params[\"scene\"],params[\"startdate\"],params[\"year\"])\n",
    "revenue[\"rec_price\"]=100;\n",
    "revenue[\"days\"]=revenue.index.day\n",
    "start=pd.to_datetime(params[\"startdate\"], format='%Y-%m-%d', errors='ignore')#초기 기간 설정\n",
    "startday=start.date().timetuple()\n",
    "revenue.days[0]=revenue.days[0]-startday.tm_mday\n",
    "revenue.days[revenue.shape[0]-1]=startday.tm_mday\n",
    "\n",
    "revenue=pd.concat([revenue,price_index,solar_index],axis=1)\n",
    "revenue[\"generation\"]=revenue['days']*params['size']*params['averagetime']*revenue[\"solar_index\"]\n",
    "revenue['smp_revenue']=revenue['smp_price']*revenue['generation']\n",
    "revenue['rec_revenue']=revenue['rec_price']*revenue['generation']*params['weight']\n",
    "revenue[\"smp_revenue\"]=revenue[\"smp_revenue\"].astype(int); revenue[\"rec_revenue\"]=revenue[\"rec_revenue\"].astype(int)\n",
    "\n",
    "#지출예상\n",
    "OM_cost=cost.OM_calc(params[\"startdate\"],params[\"size\"],params[\"year\"])\n",
    "monitoring_cost=cost.monitoring_cost_calc(params[\"startdate\"],params[\"size\"],params[\"year\"])\n",
    "elec_safety_cost=cost.elec_safety_calc(params[\"startdate\"],params[\"size\"],params[\"year\"])\n",
    "office_cost=cost.office_cost_calc(params[\"startdate\"],params[\"size\"],params[\"year\"])\n",
    "other_cost=cost.other_cost_calc(params[\"startdate\"],params[\"size\"],params[\"year\"])\n",
    "total_cost=pd.concat([OM_cost,monitoring_cost,elec_safety_cost,office_cost,other_cost],axis=1)\n",
    "cost=pd.concat([total_cost,price_index],axis=1)\n",
    "\n",
    "cost[\"OM_cost\"]=cost[\"OM_cost\"]*cost[\"price_index\"]\n",
    "cost[\"monitoring_cost\"]=cost[\"monitoring_cost\"]*cost[\"price_index\"]\n",
    "cost[\"elec_safety_cost\"]=cost[\"elec_safety_cost\"]*cost[\"price_index\"]\n",
    "cost[\"office_cost\"]=cost[\"office_cost\"]*cost[\"price_index\"]\n",
    "cost[\"other_cost\"]=cost[\"other_cost\"]*cost[\"price_index\"]\n",
    "cost[\"depreciation\"]=params[\"construction\"]/(params[\"duration\"]*12)\n",
    "\n",
    "#금융구조 예상\n",
    "if(params[\"repayment_method\"]==\"cam\"):\n",
    "    amortization=fr.CAM_calc(params[\"finance_startdate\"],params[\"duration\"],params[\"principal\"],params[\"interest\"],params[\"repayment_term\"],params[\"interest_repayment_term\"])\n",
    "elif(params[\"repayment_method\"]==\"cpm\"):\n",
    "    amortization=fr.CPM_calc(params[\"finance_startdate\"],params[\"duration\"],params[\"principal\"],params[\"interest\"],params[\"repayment_term\"])\n",
    "amortization.index=amortization.index.shift(n=1,freq=\"m\")\n",
    "result=pd.concat([revenue,cost,amortization],axis=1)\n",
    "\n",
    "#전체적인 구조 도출 \n",
    "result=result.loc[:,['smp_revenue','rec_revenue','OM_cost','monitoring_cost','elec_safety_cost','office_cost','other_cost','depreciation','interest','principal']]\n",
    "result=result.fillna(0)\n",
    "def money_trim(array):\n",
    "    result=round(array,-1)\n",
    "    result=result.astype(int)\n",
    "    return result\n",
    "result=result.apply(money_trim)\n",
    "result\n",
    "\n",
    "#쿼터로 만들기\n",
    "result_quarter=result.copy()\n",
    "result_quarter.index=result_quarter.index.to_period(\"q\")\n",
    "result_quarter=result_quarter.groupby(result_quarter.index).sum()\n",
    "result_quarter.index=pd.date_range(start=result_quarter.index.to_timestamp()[0],periods=result_quarter.shape[0],freq=\"q\")\n",
    "\n",
    "#연단위 로 만들기\n",
    "result_year=result.copy()\n",
    "result_year.index=result_year.index.to_period(\"y\")\n",
    "result_year=result_year.groupby(result_year.index).sum()\n",
    "result_year.index=pd.date_range(start=result_year.index.to_timestamp()[0],periods=result_year.shape[0],freq=\"y\")\n",
    "\n",
    "#손익계산서 만들기 \n",
    "def makeIncomeState(income_state):\n",
    "    income_state[\"gross_income\"]=income_state[\"smp_revenue\"]+income_state[\"rec_revenue\"]\n",
    "    income_state[\"operating_expense\"]=income_state[\"monitoring_cost\"]+income_state[\"elec_safety_cost\"]+income_state[\"office_cost\"]+income_state[\"other_cost\"]+income_state[\"depreciation\"]                                                                      \n",
    "    income_state[\"operating_income\"]=income_state[\"gross_income\"]-income_state[\"operating_expense\"]\n",
    "    income_state[\"pretax_net_income\"]=income_state[\"operating_income\"]-income_state[\"interest\"]\n",
    "    def tax(x):\n",
    "        if x>0:\n",
    "            return x*0.1\n",
    "        else:\n",
    "            return 0\n",
    "    income_state[\"tax\"]=income_state.pretax_net_income.apply(tax)\n",
    "    income_state[\"net_income\"]=income_state[\"pretax_net_income\"]-income_state[\"tax\"]\n",
    "    income_state=income_state.loc[:,[\"smp_revenue\",\"rec_revenue\",\"gross_income\",\"monitoring_cost\",\"elec_safety_cost\",\"office_cost\",\"other_cost\",\"depreciation\",\"operating_expense\",\"operating_income\",\"interest\",\"pretax_net_income\",\"tax\",\"net_income\"]]\n",
    "    return income_state\n",
    "\n",
    "income_month=makeIncomeState(result.copy())\n",
    "income_quarter=makeIncomeState(result_quarter.copy())\n",
    "income_year=makeIncomeState(result_year.copy())\n",
    "\n",
    "#현금흐름표 만들기 \n",
    "def makeCashFlow(cash_flow,tax,construction,principal,equity):\n",
    "    cash_flow=pd.concat([cash_flow,tax],axis=1,join='inner')\n",
    "    cash_flow=cash_flow.fillna(0)\n",
    "    cash_flow[\"operation_cash_in\"]=cash_flow[\"smp_revenue\"]+cash_flow[\"rec_revenue\"];\n",
    "    cash_flow[\"operation_cash_out\"]=cash_flow[\"monitoring_cost\"]+cash_flow[\"elec_safety_cost\"]+cash_flow[\"office_cost\"]+cash_flow[\"other_cost\"]+cash_flow[\"interest\"]+cash_flow[\"tax\"]\n",
    "    cash_flow[\"operation_cash\"]=cash_flow[\"operation_cash_in\"]-cash_flow[\"operation_cash_out\"]\n",
    "    cash_flow[\"finance_cash_in\"]=0\n",
    "    cash_flow[\"acqusition_asset\"]=0;cash_flow[\"acqusition_asset\"][0]=construction\n",
    "    cash_flow[\"finance_cash_out\"]=cash_flow[\"acqusition_asset\"]\n",
    "    cash_flow[\"finance_cash\"]=cash_flow[\"finance_cash_in\"]-cash_flow[\"finance_cash_out\"]\n",
    "    cash_flow[\"debt\"]=0; cash_flow[\"debt\"][0]=principal\n",
    "    cash_flow[\"equity\"]=0; cash_flow[\"equity\"][0]=equity\n",
    "    cash_flow[\"investment_cash_in\"]=cash_flow[\"debt\"]+cash_flow[\"equity\"]\n",
    "    cash_flow[\"investment_cash_out\"]=cash_flow[\"principal\"]\n",
    "    cash_flow[\"investment_cash\"]=cash_flow[\"investment_cash_in\"]-cash_flow[\"investment_cash_out\"]\n",
    "    cash_flow[\"start_cash\"]=0;cash_flow[\"end_cash\"]=0;\n",
    "    cash_flow[\"cash_change\"]=cash_flow[\"operation_cash\"]+cash_flow[\"finance_cash\"]+cash_flow[\"investment_cash\"]\n",
    "    for i in range(0,cash_flow.shape[0]-1):\n",
    "        cash_flow[\"end_cash\"][i]=cash_flow[\"start_cash\"][i]+cash_flow[\"cash_change\"][i];\n",
    "        cash_flow[\"start_cash\"][i+1]=cash_flow[\"end_cash\"][i];\n",
    "    cash_flow[\"end_cash\"][cash_flow.shape[0]-1]=cash_flow[\"start_cash\"][cash_flow.shape[0]-1]+cash_flow[\"cash_change\"][cash_flow.shape[0]-1]\n",
    "    cash_flow=cash_flow.loc[:,['operation_cash','smp_revenue','rec_revenue','operation_cash_in','OM_cost','monitoring_cost','elec_safety_cost', 'office_cost', 'other_cost', 'depreciation',\n",
    "       'interest','tax', 'operation_cash_out','finance_cash','finance_cash_in',\n",
    "       'acqusition_asset','finance_cash_out','debt','equity','investment_cash','investment_cash_in','principal','investment_cash_out','cash_change','start_cash','end_cash']]\n",
    "    return cash_flow\n",
    "\n",
    "cashflow_month=makeCashFlow(result.copy(),income_year['tax'],params['construction'],params['principal'],params['equity'])\n",
    "cashflow_quarter=makeCashFlow(result_quarter.copy(),income_year['tax'],params['construction'],params['principal'],params['equity'])\n",
    "cashflow_year=makeCashFlow(result_year.copy(),income_year['tax'],params['construction'],params['principal'],params['equity'])\n",
    "\n",
    "final_result={\n",
    "    \"income_month\":json.loads(income_month.to_json(orient='records',date_format=\"iso\")),\n",
    "    \"income_quarter\":json.loads(income_quarter.to_json(orient='records',date_format=\"iso\")),\n",
    "    \"income_year\":json.loads(income_year.to_json(orient='records',date_format=\"iso\")),\n",
    "    \"cashflow_month\":json.loads(cashflow_month.to_json(orient='records',date_format=\"iso\")),\n",
    "    \"cashflow_quarter\":json.loads(cashflow_quarter.to_json(orient='records',date_format=\"iso\")),\n",
    "    \"cashflow_year\":json.loads(cashflow_year.to_json(orient='records',date_format=\"iso\")),\n",
    "}"
   ]
  },
  {
   "cell_type": "code",
   "execution_count": 102,
   "metadata": {},
   "outputs": [
    {
     "data": {
      "text/plain": [
       "Index(['operation_cash', 'smp_revenue', 'rec_revenue', 'operation_cash_in',\n",
       "       'OM_cost', 'monitoring_cost', 'elec_safety_cost', 'office_cost',\n",
       "       'other_cost', 'depreciation', 'interest', 'tax', 'operation_cash_out',\n",
       "       'finance_cash', 'finance_cash_in', 'acqusition_asset',\n",
       "       'finance_cash_out', 'debt', 'equity', 'investment_cash',\n",
       "       'investment_cash_in', 'principal', 'investment_cash_out', 'cash_change',\n",
       "       'start_cash', 'end_cash'],\n",
       "      dtype='object')"
      ]
     },
     "execution_count": 102,
     "metadata": {},
     "output_type": "execute_result"
    }
   ],
   "source": [
    "cashflow_month.columns"
   ]
  },
  {
   "cell_type": "code",
   "execution_count": 103,
   "metadata": {},
   "outputs": [
    {
     "data": {
      "text/plain": [
       "'[{\"operation_cash\":637770,\"smp_revenue\":858840,\"rec_revenue\":1552120,\"operation_cash_in\":2410960,\"OM_cost\":1245820,\"monitoring_cost\":104170,\"elec_safety_cost\":100170,\"office_cost\":1043400,\"other_cost\":22920,\"depreciation\":1041670,\"interest\":502530,\"tax\":0,\"operation_cash_out\":1773190,\"finance_cash\":-150000000,\"finance_cash_in\":0,\"acqusition_asset\":150000000,\"finance_cash_out\":150000000,\"debt\":120000000,\"equity\":60000000,\"investment_cash\":179392660,\"investment_cash_in\":180000000,\"principal\":607340,\"investment_cash_out\":607340,\"cash_change\":30030430,\"start_cash\":0,\"end_cash\":30030430},{\"operation_cash\":460730,\"smp_revenue\":818690,\"rec_revenue\":1427950,\"operation_cash_in\":2246640,\"OM_cost\":1258280,\"monitoring_cost\":105220,\"elec_safety_cost\":101170,\"office_cost\":1053840,\"other_cost\":23150,\"depreciation\":1041670,\"interest\":502530,\"tax\":0,\"operation_cash_out\":1785910,\"finance_cash\":0,\"finance_cash_in\":0,\"acqusition_asset\":0,\"finance_cash_out\":0,\"debt\":0,\"equity\":0,\"investment_cash\":-607340,\"investment_cash_in\":0,\"principal\":607340,\"investment_cash_out\":607340,\"cash_change\":-146610,\"start_cash\":30030430,\"end_cash\":29883820},{\"operation_cash\":285680,\"smp_revenue\":770710,\"rec_revenue\":1313710,\"operation_cash_in\":2084420,\"OM_cost\":1270860,\"monitoring_cost\":106270,\"elec_safety_cost\":102180,\"office_cost\":1064380,\"other_cost\":23380,\"depreciation\":1041670,\"interest\":502530,\"tax\":0,\"operation_cash_out\":1798740,\"finance_cash\":0,\"finance_cash_in\":0,\"acqusition_asset\":0,\"finance_cash_out\":0,\"debt\":0,\"equity\":0,\"investment_cash\":-607340,\"investment_cash_in\":0,\"principal\":607340,\"investment_cash_out\":607340,\"cash_change\":-321660,\"start_cash\":29883820,\"end_cash\":29562160},{\"operation_cash\":81800,\"smp_revenue\":684880,\"rec_revenue\":1208620,\"operation_cash_in\":1893500,\"OM_cost\":1283570,\"monitoring_cost\":107330,\"elec_safety_cost\":103200,\"office_cost\":1075020,\"other_cost\":23620,\"depreciation\":1041670,\"interest\":502530,\"tax\":0,\"operation_cash_out\":1811700,\"finance_cash\":0,\"finance_cash_in\":0,\"acqusition_asset\":0,\"finance_cash_out\":0,\"debt\":0,\"equity\":0,\"investment_cash\":-607340,\"investment_cash_in\":0,\"principal\":607340,\"investment_cash_out\":607340,\"cash_change\":-525540,\"start_cash\":29562160,\"end_cash\":29036620},{\"operation_cash\":-105000,\"smp_revenue\":607850,\"rec_revenue\":1111930,\"operation_cash_in\":1719780,\"OM_cost\":1296410,\"monitoring_cost\":108400,\"elec_safety_cost\":104230,\"office_cost\":1085770,\"other_cost\":23850,\"depreciation\":1041670,\"interest\":502530,\"tax\":0,\"operation_cash_out\":1824780,\"finance_cash\":0,\"finance_cash_in\":0,\"acqusition_asset\":0,\"finance_cash_out\":0,\"debt\":0,\"equity\":0,\"investment_cash\":-607340,\"investment_cash_in\":0,\"principal\":607340,\"investment_cash_out\":607340,\"cash_change\":-712340,\"start_cash\":29036620,\"end_cash\":28324280},{\"operation_cash\":-235370,\"smp_revenue\":579680,\"rec_revenue\":1022970,\"operation_cash_in\":1602650,\"OM_cost\":1309370,\"monitoring_cost\":109490,\"elec_safety_cost\":105280,\"office_cost\":1096630,\"other_cost\":24090,\"depreciation\":1041670,\"interest\":502530,\"tax\":0,\"operation_cash_out\":1838020,\"finance_cash\":0,\"finance_cash_in\":0,\"acqusition_asset\":0,\"finance_cash_out\":0,\"debt\":0,\"equity\":0,\"investment_cash\":-607340,\"investment_cash_in\":0,\"principal\":607340,\"investment_cash_out\":607340,\"cash_change\":-842710,\"start_cash\":28324280,\"end_cash\":27481570},{\"operation_cash\":-339260,\"smp_revenue\":570960,\"rec_revenue\":941140,\"operation_cash_in\":1512100,\"OM_cost\":1322470,\"monitoring_cost\":110580,\"elec_safety_cost\":106330,\"office_cost\":1107590,\"other_cost\":24330,\"depreciation\":1041670,\"interest\":502530,\"tax\":0,\"operation_cash_out\":1851360,\"finance_cash\":0,\"finance_cash_in\":0,\"acqusition_asset\":0,\"finance_cash_out\":0,\"debt\":0,\"equity\":0,\"investment_cash\":-607340,\"investment_cash_in\":0,\"principal\":607340,\"investment_cash_out\":607340,\"cash_change\":-946600,\"start_cash\":27481570,\"end_cash\":26534970},{\"operation_cash\":-450650,\"smp_revenue\":548370,\"rec_revenue\":865840,\"operation_cash_in\":1414210,\"OM_cost\":1335690,\"monitoring_cost\":111690,\"elec_safety_cost\":107390,\"office_cost\":1118670,\"other_cost\":24580,\"depreciation\":1041670,\"interest\":502530,\"tax\":0,\"operation_cash_out\":1864860,\"finance_cash\":0,\"finance_cash_in\":0,\"acqusition_asset\":0,\"finance_cash_out\":0,\"debt\":0,\"equity\":0,\"investment_cash\":-607340,\"investment_cash_in\":0,\"principal\":607340,\"investment_cash_out\":607340,\"cash_change\":-1057990,\"start_cash\":26534970,\"end_cash\":25476980},{\"operation_cash\":-566780,\"smp_revenue\":515120,\"rec_revenue\":796580,\"operation_cash_in\":1311700,\"OM_cost\":1349050,\"monitoring_cost\":112800,\"elec_safety_cost\":108470,\"office_cost\":1129860,\"other_cost\":24820,\"depreciation\":1041670,\"interest\":502530,\"tax\":0,\"operation_cash_out\":1878480,\"finance_cash\":0,\"finance_cash_in\":0,\"acqusition_asset\":0,\"finance_cash_out\":0,\"debt\":0,\"equity\":0,\"investment_cash\":-607340,\"investment_cash_in\":0,\"principal\":607340,\"investment_cash_out\":607340,\"cash_change\":-1174120,\"start_cash\":25476980,\"end_cash\":24302860},{\"operation_cash\":-685470,\"smp_revenue\":473910,\"rec_revenue\":732850,\"operation_cash_in\":1206760,\"OM_cost\":1362540,\"monitoring_cost\":113930,\"elec_safety_cost\":109550,\"office_cost\":1141150,\"other_cost\":25070,\"depreciation\":1041670,\"interest\":502530,\"tax\":0,\"operation_cash_out\":1892230,\"finance_cash\":0,\"finance_cash_in\":0,\"acqusition_asset\":0,\"finance_cash_out\":0,\"debt\":0,\"equity\":0,\"investment_cash\":-607340,\"investment_cash_in\":0,\"principal\":607340,\"investment_cash_out\":607340,\"cash_change\":-1292810,\"start_cash\":24302860,\"end_cash\":23010050},{\"operation_cash\":-791430,\"smp_revenue\":440490,\"rec_revenue\":674220,\"operation_cash_in\":1114710,\"OM_cost\":1376160,\"monitoring_cost\":115070,\"elec_safety_cost\":110650,\"office_cost\":1152570,\"other_cost\":25320,\"depreciation\":1041670,\"interest\":502530,\"tax\":0,\"operation_cash_out\":1906140,\"finance_cash\":0,\"finance_cash_in\":0,\"acqusition_asset\":0,\"finance_cash_out\":0,\"debt\":0,\"equity\":0,\"investment_cash\":-607340,\"investment_cash_in\":0,\"principal\":607340,\"investment_cash_out\":607340,\"cash_change\":-1398770,\"start_cash\":23010050,\"end_cash\":21611280},{\"operation_cash\":-894630,\"smp_revenue\":405250,\"rec_revenue\":620280,\"operation_cash_in\":1025530,\"OM_cost\":1389930,\"monitoring_cost\":116220,\"elec_safety_cost\":111750,\"office_cost\":1164090,\"other_cost\":25570,\"depreciation\":1041670,\"interest\":502530,\"tax\":0,\"operation_cash_out\":1920160,\"finance_cash\":0,\"finance_cash_in\":0,\"acqusition_asset\":0,\"finance_cash_out\":0,\"debt\":0,\"equity\":0,\"investment_cash\":-607340,\"investment_cash_in\":0,\"principal\":607340,\"investment_cash_out\":607340,\"cash_change\":-1501970,\"start_cash\":21611280,\"end_cash\":20109310},{\"operation_cash\":-492130,\"smp_revenue\":369030,\"rec_revenue\":570660,\"operation_cash_in\":939690,\"OM_cost\":1403820,\"monitoring_cost\":117390,\"elec_safety_cost\":112870,\"office_cost\":1175730,\"other_cost\":25830,\"depreciation\":1041670,\"interest\":0,\"tax\":0,\"operation_cash_out\":1431820,\"finance_cash\":0,\"finance_cash_in\":0,\"acqusition_asset\":0,\"finance_cash_out\":0,\"debt\":0,\"equity\":0,\"investment_cash\":0,\"investment_cash_in\":0,\"principal\":0,\"investment_cash_out\":0,\"cash_change\":-492130,\"start_cash\":20109310,\"end_cash\":19617180},{\"operation_cash\":-585120,\"smp_revenue\":336010,\"rec_revenue\":525010,\"operation_cash_in\":861020,\"OM_cost\":1417860,\"monitoring_cost\":118560,\"elec_safety_cost\":114000,\"office_cost\":1187490,\"other_cost\":26090,\"depreciation\":1041670,\"interest\":0,\"tax\":0,\"operation_cash_out\":1446140,\"finance_cash\":0,\"finance_cash_in\":0,\"acqusition_asset\":0,\"finance_cash_out\":0,\"debt\":0,\"equity\":0,\"investment_cash\":0,\"investment_cash_in\":0,\"principal\":0,\"investment_cash_out\":0,\"cash_change\":-585120,\"start_cash\":19617180,\"end_cash\":19032060},{\"operation_cash\":-668460,\"smp_revenue\":309120,\"rec_revenue\":483010,\"operation_cash_in\":792130,\"OM_cost\":1432040,\"monitoring_cost\":119740,\"elec_safety_cost\":115140,\"office_cost\":1199360,\"other_cost\":26350,\"depreciation\":1041670,\"interest\":0,\"tax\":0,\"operation_cash_out\":1460590,\"finance_cash\":0,\"finance_cash_in\":0,\"acqusition_asset\":0,\"finance_cash_out\":0,\"debt\":0,\"equity\":0,\"investment_cash\":0,\"investment_cash_in\":0,\"principal\":0,\"investment_cash_out\":0,\"cash_change\":-668460,\"start_cash\":19032060,\"end_cash\":18363600},{\"operation_cash\":-749400,\"smp_revenue\":281430,\"rec_revenue\":444370,\"operation_cash_in\":725800,\"OM_cost\":1446360,\"monitoring_cost\":120940,\"elec_safety_cost\":116290,\"office_cost\":1211360,\"other_cost\":26610,\"depreciation\":1041670,\"interest\":0,\"tax\":0,\"operation_cash_out\":1475200,\"finance_cash\":0,\"finance_cash_in\":0,\"acqusition_asset\":0,\"finance_cash_out\":0,\"debt\":0,\"equity\":0,\"investment_cash\":0,\"investment_cash_in\":0,\"principal\":0,\"investment_cash_out\":0,\"cash_change\":-749400,\"start_cash\":18363600,\"end_cash\":17614200},{\"operation_cash\":-824940,\"smp_revenue\":256190,\"rec_revenue\":408820,\"operation_cash_in\":665010,\"OM_cost\":1460830,\"monitoring_cost\":122150,\"elec_safety_cost\":117450,\"office_cost\":1223470,\"other_cost\":26880,\"depreciation\":1041670,\"interest\":0,\"tax\":0,\"operation_cash_out\":1489950,\"finance_cash\":0,\"finance_cash_in\":0,\"acqusition_asset\":0,\"finance_cash_out\":0,\"debt\":0,\"equity\":0,\"investment_cash\":0,\"investment_cash_in\":0,\"principal\":0,\"investment_cash_out\":0,\"cash_change\":-824940,\"start_cash\":17614200,\"end_cash\":16789260},{\"operation_cash\":-895560,\"smp_revenue\":233190,\"rec_revenue\":376110,\"operation_cash_in\":609300,\"OM_cost\":1475430,\"monitoring_cost\":123370,\"elec_safety_cost\":118630,\"office_cost\":1235710,\"other_cost\":27150,\"depreciation\":1041670,\"interest\":0,\"tax\":0,\"operation_cash_out\":1504860,\"finance_cash\":0,\"finance_cash_in\":0,\"acqusition_asset\":0,\"finance_cash_out\":0,\"debt\":0,\"equity\":0,\"investment_cash\":0,\"investment_cash_in\":0,\"principal\":0,\"investment_cash_out\":0,\"cash_change\":-895560,\"start_cash\":16789260,\"end_cash\":15893700},{\"operation_cash\":-961650,\"smp_revenue\":212230,\"rec_revenue\":346020,\"operation_cash_in\":558250,\"OM_cost\":1490190,\"monitoring_cost\":124610,\"elec_safety_cost\":119810,\"office_cost\":1248060,\"other_cost\":27420,\"depreciation\":1041670,\"interest\":0,\"tax\":0,\"operation_cash_out\":1519900,\"finance_cash\":0,\"finance_cash_in\":0,\"acqusition_asset\":0,\"finance_cash_out\":0,\"debt\":0,\"equity\":0,\"investment_cash\":0,\"investment_cash_in\":0,\"principal\":0,\"investment_cash_out\":0,\"cash_change\":-961650,\"start_cash\":15893700,\"end_cash\":14932050},{\"operation_cash\":-1023620,\"smp_revenue\":193130,\"rec_revenue\":318340,\"operation_cash_in\":511470,\"OM_cost\":1505090,\"monitoring_cost\":125850,\"elec_safety_cost\":121010,\"office_cost\":1260540,\"other_cost\":27690,\"depreciation\":1041670,\"interest\":0,\"tax\":0,\"operation_cash_out\":1535090,\"finance_cash\":0,\"finance_cash_in\":0,\"acqusition_asset\":0,\"finance_cash_out\":0,\"debt\":0,\"equity\":0,\"investment_cash\":0,\"investment_cash_in\":0,\"principal\":0,\"investment_cash_out\":0,\"cash_change\":-1023620,\"start_cash\":14932050,\"end_cash\":13908430},{\"operation_cash\":-1081860,\"smp_revenue\":175720,\"rec_revenue\":292870,\"operation_cash_in\":468590,\"OM_cost\":1520140,\"monitoring_cost\":127110,\"elec_safety_cost\":122220,\"office_cost\":1273150,\"other_cost\":27970,\"depreciation\":1041670,\"interest\":0,\"tax\":0,\"operation_cash_out\":1550450,\"finance_cash\":0,\"finance_cash_in\":0,\"acqusition_asset\":0,\"finance_cash_out\":0,\"debt\":0,\"equity\":0,\"investment_cash\":0,\"investment_cash_in\":0,\"principal\":0,\"investment_cash_out\":0,\"cash_change\":-1081860,\"start_cash\":13908430,\"end_cash\":12826570},{\"operation_cash\":-1136640,\"smp_revenue\":159870,\"rec_revenue\":269440,\"operation_cash_in\":429310,\"OM_cost\":1535340,\"monitoring_cost\":128380,\"elec_safety_cost\":123440,\"office_cost\":1285880,\"other_cost\":28250,\"depreciation\":1041670,\"interest\":0,\"tax\":0,\"operation_cash_out\":1565950,\"finance_cash\":0,\"finance_cash_in\":0,\"acqusition_asset\":0,\"finance_cash_out\":0,\"debt\":0,\"equity\":0,\"investment_cash\":0,\"investment_cash_in\":0,\"principal\":0,\"investment_cash_out\":0,\"cash_change\":-1136640,\"start_cash\":12826570,\"end_cash\":11689930},{\"operation_cash\":-1186650,\"smp_revenue\":147080,\"rec_revenue\":247890,\"operation_cash_in\":394970,\"OM_cost\":1550700,\"monitoring_cost\":129670,\"elec_safety_cost\":124680,\"office_cost\":1298740,\"other_cost\":28530,\"depreciation\":1041670,\"interest\":0,\"tax\":0,\"operation_cash_out\":1581620,\"finance_cash\":0,\"finance_cash_in\":0,\"acqusition_asset\":0,\"finance_cash_out\":0,\"debt\":0,\"equity\":0,\"investment_cash\":0,\"investment_cash_in\":0,\"principal\":0,\"investment_cash_out\":0,\"cash_change\":-1186650,\"start_cash\":11689930,\"end_cash\":10503280},{\"operation_cash\":-1234070,\"smp_revenue\":135310,\"rec_revenue\":228060,\"operation_cash_in\":363370,\"OM_cost\":1566200,\"monitoring_cost\":130960,\"elec_safety_cost\":125930,\"office_cost\":1311730,\"other_cost\":28820,\"depreciation\":1041670,\"interest\":0,\"tax\":0,\"operation_cash_out\":1597440,\"finance_cash\":0,\"finance_cash_in\":0,\"acqusition_asset\":0,\"finance_cash_out\":0,\"debt\":0,\"equity\":0,\"investment_cash\":0,\"investment_cash_in\":0,\"principal\":0,\"investment_cash_out\":0,\"cash_change\":-1234070,\"start_cash\":10503280,\"end_cash\":9269210},{\"operation_cash\":-1271900,\"smp_revenue\":126170,\"rec_revenue\":212650,\"operation_cash_in\":338820,\"OM_cost\":1579230,\"monitoring_cost\":132050,\"elec_safety_cost\":126970,\"office_cost\":1322640,\"other_cost\":29060,\"depreciation\":1041670,\"interest\":0,\"tax\":0,\"operation_cash_out\":1610720,\"finance_cash\":0,\"finance_cash_in\":0,\"acqusition_asset\":0,\"finance_cash_out\":0,\"debt\":0,\"equity\":0,\"investment_cash\":0,\"investment_cash_in\":0,\"principal\":0,\"investment_cash_out\":0,\"cash_change\":-1271900,\"start_cash\":9269210,\"end_cash\":7997310}]'"
      ]
     },
     "execution_count": 103,
     "metadata": {},
     "output_type": "execute_result"
    }
   ],
   "source": [
    "cashflow_month.to_json(orient='records',date_format=\"iso\")"
   ]
  },
  {
   "cell_type": "code",
   "execution_count": null,
   "metadata": {
    "collapsed": true
   },
   "outputs": [],
   "source": []
  }
 ],
 "metadata": {
  "hide_input": false,
  "kernelspec": {
   "display_name": "Python 3",
   "language": "python",
   "name": "python3"
  },
  "language_info": {
   "codemirror_mode": {
    "name": "ipython",
    "version": 3
   },
   "file_extension": ".py",
   "mimetype": "text/x-python",
   "name": "python",
   "nbconvert_exporter": "python",
   "pygments_lexer": "ipython3",
   "version": "3.6.2"
  }
 },
 "nbformat": 4,
 "nbformat_minor": 2
}
