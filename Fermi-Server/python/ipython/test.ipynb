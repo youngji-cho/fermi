{
 "cells": [
  {
   "cell_type": "code",
   "execution_count": 9,
   "metadata": {},
   "outputs": [],
   "source": [
    "import pymysql\n",
    "import sys\n",
    "import numpy as np\n",
    "import pandas as pd\n",
    "import json\n",
    "import os\n",
    "import statsmodels.api as sm\n",
    "import statsmodels.formula.api as smf\n",
    "import datetime\n",
    "\n",
    "WEO_period=[pd.Period('2020-01'),pd.Period('2030-01'),pd.Period('2040-01')]\n",
    "period=pd.period_range(start=datetime.date.today().strftime(\"%Y-%m\"),periods=12*25,freq='M')\n",
    "WEO_data=pd.DataFrame({'WEO_NP':pd.Series([79,111,124],index=WEO_period),\n",
    "                       'WEO_CP':pd.Series([82,127,146],index=WEO_period),\n",
    "                       'WEO_450':pd.Series([73,85,73],index=WEO_period)})\n",
    "WEO_data.interpolate()\n",
    "\n",
    "#pd.concat(x,WEO_data)\n",
    "x=pd.DataFrame(index=period)\n",
    "WEO1=pd.concat(objs=[x,WEO_data],axis=1).loc[:,['WEO_NP','WEO_CP','WEO_450']]\n",
    "WEO1.loc['2018-04']=[62.23,62.23,62.23]\n",
    "WEO1=WEO1.interpolate()\n",
    "\n",
    "os.chdir(\"/Users/youngji/github/data\")\n",
    "writer = pd.ExcelWriter('oil_forcast.xlsx')\n",
    "WEO1.to_excel(writer,'oil_forcast')\n",
    "writer.save()"
   ]
  },
  {
   "cell_type": "code",
   "execution_count": 14,
   "metadata": {},
   "outputs": [],
   "source": [
    "supply_plan1=pd.read_excel(\"supply_plan.xlsx\",skiprows=0,sheetname='시트 1')\n",
    "supply_period=[pd.Period('2015-01'),pd.Period('2016-01'),pd.Period('2017-01'),pd.Period('2018-01'),pd.Period('2019-01'),\n",
    "               pd.Period('2020-01'),pd.Period('2021-01'),pd.Period('2022-01'),pd.Period('2023-01'),pd.Period('2024-01'),\n",
    "               pd.Period('2025-01'),pd.Period('2026-01'),pd.Period('2027-01'),pd.Period('2028-01'),pd.Period('2029-01'),\n",
    "               pd.Period('2030-01'),pd.Period('2031-01'),pd.Period('2032-01'),pd.Period('2033-01'),pd.Period('2034-01'),\n",
    "               pd.Period('2035-01'),pd.Period('2036-01'),pd.Period('2037-01'),pd.Period('2038-01'),pd.Period('2039-01'),    \n",
    "               pd.Period('2040-01')]\n",
    "supply_plan2=supply_plan1.set_index(keys=[supply_period])\n",
    "supply_plan=supply_plan2.공급예비율\n",
    "supply_scenario=pd.Series(index=pd.period_range(start='2015-01',periods=12*25,freq='M'))\n",
    "supply1=pd.concat(objs=[supply_plan,supply_scenario],axis=1).공급예비율\n",
    "supply=supply1.interpolate()\n",
    "supply_scenario\n",
    "supply=pd.DataFrame(supply)\n",
    "\n",
    "writer = pd.ExcelWriter('supply.xlsx')\n",
    "supply.to_excel(writer,'supply')\n",
    "writer.save()"
   ]
  },
  {
   "cell_type": "code",
   "execution_count": null,
   "metadata": {
    "collapsed": true
   },
   "outputs": [],
   "source": []
  },
  {
   "cell_type": "code",
   "execution_count": null,
   "metadata": {
    "collapsed": true
   },
   "outputs": [],
   "source": []
  }
 ],
 "metadata": {
  "hide_input": false,
  "kernelspec": {
   "display_name": "Python 3",
   "language": "python",
   "name": "python3"
  },
  "language_info": {
   "codemirror_mode": {
    "name": "ipython",
    "version": 3
   },
   "file_extension": ".py",
   "mimetype": "text/x-python",
   "name": "python",
   "nbconvert_exporter": "python",
   "pygments_lexer": "ipython3",
   "version": "3.6.0"
  }
 },
 "nbformat": 4,
 "nbformat_minor": 2
}
